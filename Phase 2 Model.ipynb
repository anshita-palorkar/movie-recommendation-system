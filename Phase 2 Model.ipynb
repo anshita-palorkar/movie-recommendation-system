{
 "cells": [
  {
   "cell_type": "markdown",
   "id": "50e8aa15",
   "metadata": {},
   "source": [
    "# ML Lab Mini Project – Movie Recommender System (Phase 2)\n",
    "---\n",
    "## Performing the recommendations\n",
    "---\n",
    "### Similarity between movies"
   ]
  },
  {
   "cell_type": "code",
   "execution_count": 1,
   "id": "2ffef604",
   "metadata": {},
   "outputs": [],
   "source": [
    "# importing libraries\n",
    "import pandas as pd\n",
    "from sklearn.feature_extraction.text import TfidfVectorizer\n",
    "from sklearn.metrics.pairwise import cosine_similarity\n",
    "from scipy.sparse import csr_matrix\n",
    "from sklearn.neighbors import NearestNeighbors\n",
    "from surprise import Reader, Dataset, KNNWithMeans, accuracy\n",
    "from surprise.model_selection import KFold, train_test_split"
   ]
  },
  {
   "cell_type": "code",
   "execution_count": 2,
   "id": "4a0c00c9",
   "metadata": {},
   "outputs": [],
   "source": [
    "# reading the datasets\n",
    "movies = pd.read_csv('movies.csv')\n",
    "ratings = pd.read_csv('ratings.csv')\n",
    "tags= pd.read_csv('tags.csv')"
   ]
  },
  {
   "cell_type": "code",
   "execution_count": 3,
   "id": "27a2a26e",
   "metadata": {},
   "outputs": [],
   "source": [
    "# general cleanup\n",
    "tags.drop(['timestamp'], axis=1, inplace=True)\n",
    "\n",
    "ratings_f = ratings.groupby('userId').filter(lambda x: len(x) > 20)\n",
    "ratings.drop(['timestamp'], axis=1, inplace=True)\n",
    "\n",
    "# splitting genres\n",
    "movies['genres'] = movies['genres'].apply(lambda x: x.split('|'))\n",
    "movies['genres'] = movies['genres'].apply(lambda x: ' '.join(x))\n",
    "movies['genres'] = movies['genres'].apply(lambda x: x.lower())"
   ]
  },
  {
   "cell_type": "code",
   "execution_count": 4,
   "id": "a2949435",
   "metadata": {},
   "outputs": [],
   "source": [
    "# getting a list of unique movies\n",
    "movielist = ratings_f.movieId.unique().tolist()\n",
    "movies = movies[movies.movieId.isin(movielist)]"
   ]
  },
  {
   "cell_type": "code",
   "execution_count": 5,
   "id": "33738512",
   "metadata": {},
   "outputs": [
    {
     "data": {
      "text/html": [
       "<div>\n",
       "<style scoped>\n",
       "    .dataframe tbody tr th:only-of-type {\n",
       "        vertical-align: middle;\n",
       "    }\n",
       "\n",
       "    .dataframe tbody tr th {\n",
       "        vertical-align: top;\n",
       "    }\n",
       "\n",
       "    .dataframe thead th {\n",
       "        text-align: right;\n",
       "    }\n",
       "</style>\n",
       "<table border=\"1\" class=\"dataframe\">\n",
       "  <thead>\n",
       "    <tr style=\"text-align: right;\">\n",
       "      <th></th>\n",
       "      <th>movieId</th>\n",
       "      <th>title</th>\n",
       "      <th>genres</th>\n",
       "      <th>userId</th>\n",
       "      <th>tag</th>\n",
       "    </tr>\n",
       "  </thead>\n",
       "  <tbody>\n",
       "    <tr>\n",
       "      <th>0</th>\n",
       "      <td>1</td>\n",
       "      <td>Toy Story (1995)</td>\n",
       "      <td>adventure animation children comedy fantasy</td>\n",
       "      <td>336.0</td>\n",
       "      <td>pixar</td>\n",
       "    </tr>\n",
       "    <tr>\n",
       "      <th>1</th>\n",
       "      <td>1</td>\n",
       "      <td>Toy Story (1995)</td>\n",
       "      <td>adventure animation children comedy fantasy</td>\n",
       "      <td>474.0</td>\n",
       "      <td>pixar</td>\n",
       "    </tr>\n",
       "    <tr>\n",
       "      <th>2</th>\n",
       "      <td>1</td>\n",
       "      <td>Toy Story (1995)</td>\n",
       "      <td>adventure animation children comedy fantasy</td>\n",
       "      <td>567.0</td>\n",
       "      <td>fun</td>\n",
       "    </tr>\n",
       "    <tr>\n",
       "      <th>3</th>\n",
       "      <td>2</td>\n",
       "      <td>Jumanji (1995)</td>\n",
       "      <td>adventure children fantasy</td>\n",
       "      <td>62.0</td>\n",
       "      <td>fantasy</td>\n",
       "    </tr>\n",
       "    <tr>\n",
       "      <th>4</th>\n",
       "      <td>2</td>\n",
       "      <td>Jumanji (1995)</td>\n",
       "      <td>adventure children fantasy</td>\n",
       "      <td>62.0</td>\n",
       "      <td>magic board game</td>\n",
       "    </tr>\n",
       "  </tbody>\n",
       "</table>\n",
       "</div>"
      ],
      "text/plain": [
       "   movieId             title                                       genres  \\\n",
       "0        1  Toy Story (1995)  adventure animation children comedy fantasy   \n",
       "1        1  Toy Story (1995)  adventure animation children comedy fantasy   \n",
       "2        1  Toy Story (1995)  adventure animation children comedy fantasy   \n",
       "3        2    Jumanji (1995)                   adventure children fantasy   \n",
       "4        2    Jumanji (1995)                   adventure children fantasy   \n",
       "\n",
       "   userId               tag  \n",
       "0   336.0             pixar  \n",
       "1   474.0             pixar  \n",
       "2   567.0               fun  \n",
       "3    62.0           fantasy  \n",
       "4    62.0  magic board game  "
      ]
     },
     "execution_count": 5,
     "metadata": {},
     "output_type": "execute_result"
    }
   ],
   "source": [
    "# combining movie and tag data\n",
    "mixed = pd.merge(movies, tags, on='movieId', how='left')\n",
    "mixed.head()"
   ]
  },
  {
   "cell_type": "code",
   "execution_count": 6,
   "id": "5cf99f9e",
   "metadata": {},
   "outputs": [
    {
     "data": {
      "text/html": [
       "<div>\n",
       "<style scoped>\n",
       "    .dataframe tbody tr th:only-of-type {\n",
       "        vertical-align: middle;\n",
       "    }\n",
       "\n",
       "    .dataframe tbody tr th {\n",
       "        vertical-align: top;\n",
       "    }\n",
       "\n",
       "    .dataframe thead th {\n",
       "        text-align: right;\n",
       "    }\n",
       "</style>\n",
       "<table border=\"1\" class=\"dataframe\">\n",
       "  <thead>\n",
       "    <tr style=\"text-align: right;\">\n",
       "      <th></th>\n",
       "      <th>movieId</th>\n",
       "      <th>title</th>\n",
       "      <th>genres</th>\n",
       "      <th>tag</th>\n",
       "      <th>keywords</th>\n",
       "    </tr>\n",
       "  </thead>\n",
       "  <tbody>\n",
       "    <tr>\n",
       "      <th>0</th>\n",
       "      <td>1</td>\n",
       "      <td>Toy Story (1995)</td>\n",
       "      <td>adventure animation children comedy fantasy</td>\n",
       "      <td>pixar pixar fun</td>\n",
       "      <td>pixar pixar fun adventure animation children c...</td>\n",
       "    </tr>\n",
       "    <tr>\n",
       "      <th>1</th>\n",
       "      <td>2</td>\n",
       "      <td>Jumanji (1995)</td>\n",
       "      <td>adventure children fantasy</td>\n",
       "      <td>fantasy magic board game Robin Williams game</td>\n",
       "      <td>fantasy magic board game Robin Williams game a...</td>\n",
       "    </tr>\n",
       "    <tr>\n",
       "      <th>2</th>\n",
       "      <td>3</td>\n",
       "      <td>Grumpier Old Men (1995)</td>\n",
       "      <td>comedy romance</td>\n",
       "      <td>moldy old</td>\n",
       "      <td>moldy old comedy romance</td>\n",
       "    </tr>\n",
       "    <tr>\n",
       "      <th>3</th>\n",
       "      <td>4</td>\n",
       "      <td>Waiting to Exhale (1995)</td>\n",
       "      <td>comedy drama romance</td>\n",
       "      <td></td>\n",
       "      <td>comedy drama romance</td>\n",
       "    </tr>\n",
       "    <tr>\n",
       "      <th>4</th>\n",
       "      <td>5</td>\n",
       "      <td>Father of the Bride Part II (1995)</td>\n",
       "      <td>comedy</td>\n",
       "      <td>pregnancy remake</td>\n",
       "      <td>pregnancy remake comedy</td>\n",
       "    </tr>\n",
       "  </tbody>\n",
       "</table>\n",
       "</div>"
      ],
      "text/plain": [
       "   movieId                               title  \\\n",
       "0        1                    Toy Story (1995)   \n",
       "1        2                      Jumanji (1995)   \n",
       "2        3             Grumpier Old Men (1995)   \n",
       "3        4            Waiting to Exhale (1995)   \n",
       "4        5  Father of the Bride Part II (1995)   \n",
       "\n",
       "                                        genres  \\\n",
       "0  adventure animation children comedy fantasy   \n",
       "1                   adventure children fantasy   \n",
       "2                               comedy romance   \n",
       "3                         comedy drama romance   \n",
       "4                                       comedy   \n",
       "\n",
       "                                            tag  \\\n",
       "0                               pixar pixar fun   \n",
       "1  fantasy magic board game Robin Williams game   \n",
       "2                                     moldy old   \n",
       "3                                                 \n",
       "4                              pregnancy remake   \n",
       "\n",
       "                                            keywords  \n",
       "0  pixar pixar fun adventure animation children c...  \n",
       "1  fantasy magic board game Robin Williams game a...  \n",
       "2                           moldy old comedy romance  \n",
       "3                               comedy drama romance  \n",
       "4                            pregnancy remake comedy  "
      ]
     },
     "execution_count": 6,
     "metadata": {},
     "output_type": "execute_result"
    }
   ],
   "source": [
    "# combining genres and tags to get keyword metadata for each movie\n",
    "mixed.fillna(\"\", inplace=True)\n",
    "mixed = pd.DataFrame(mixed.groupby('movieId')['tag'].apply(lambda x: \"%s\" % ' '.join(x)))\n",
    "final = pd.merge(movies, mixed, on='movieId', how='left')\n",
    "final['keywords'] = final[['tag', 'genres']].apply(lambda x: ' '.join(x), axis = 1)\n",
    "final.head()"
   ]
  },
  {
   "cell_type": "code",
   "execution_count": 7,
   "id": "06fe9027",
   "metadata": {},
   "outputs": [
    {
     "name": "stdout",
     "output_type": "stream",
     "text": [
      "(9724, 1675)\n"
     ]
    }
   ],
   "source": [
    "# using tfidf vectorisation to extract important keywords\n",
    "tfidf = TfidfVectorizer(stop_words='english')\n",
    "tfidf_matrix = tfidf.fit_transform(final['keywords'])\n",
    "tfidf_df = pd.DataFrame(tfidf_matrix.toarray(), index=final.index.tolist())\n",
    "print(tfidf_df.shape)"
   ]
  },
  {
   "cell_type": "code",
   "execution_count": 8,
   "id": "5dbbee4f",
   "metadata": {},
   "outputs": [],
   "source": [
    "# computing cosine similarity between movies\n",
    "cosine_sim = cosine_similarity(tfidf_matrix)"
   ]
  },
  {
   "cell_type": "code",
   "execution_count": 9,
   "id": "6307814e",
   "metadata": {},
   "outputs": [],
   "source": [
    "# helper functions\n",
    "def get_idx(title):\n",
    "    return final[final.title.str.contains(title, case=False)].index[0]\n",
    "\n",
    "def get_title(idx):\n",
    "    return final[final.index == idx]['title'].values[0]"
   ]
  },
  {
   "cell_type": "markdown",
   "id": "54a9f0a9",
   "metadata": {},
   "source": [
    "---\n",
    "### Cold Start\n",
    "\n",
    "\n",
    "#### Content-based only"
   ]
  },
  {
   "cell_type": "code",
   "execution_count": 10,
   "id": "6716cdf2",
   "metadata": {},
   "outputs": [],
   "source": [
    "# function to recommend top 10 movies based on similar keywords\n",
    "def keyword_recommend(title):\n",
    "    movie_list = movies[movies['title'].str.contains(title, case=False)]\n",
    "    if len(movie_list):\n",
    "        idx = get_idx(title)\n",
    "        similar_movies = list(enumerate(cosine_sim[idx]))\n",
    "        sorted_similar_movies = sorted(similar_movies, key=lambda x:x[1], reverse=True)\n",
    "        \n",
    "        recommend_frame = []\n",
    "        for movie in sorted_similar_movies[1:11]:\n",
    "            recommend_frame.append({'Title':get_title(movie[0]), 'Similarity':movie[1]})\n",
    "            \n",
    "        df = pd.DataFrame(recommend_frame, index=range(1, 11))\n",
    "        return df\n",
    "    else:\n",
    "        return \"No movies found.\"\n",
    "        "
   ]
  },
  {
   "cell_type": "code",
   "execution_count": 11,
   "id": "77ee5c47",
   "metadata": {},
   "outputs": [
    {
     "name": "stdout",
     "output_type": "stream",
     "text": [
      "Enter a movie you liked: interstellar\n"
     ]
    }
   ],
   "source": [
    "movie = input(\"Enter a movie you liked: \")"
   ]
  },
  {
   "cell_type": "code",
   "execution_count": 12,
   "id": "4787d820",
   "metadata": {},
   "outputs": [
    {
     "name": "stdout",
     "output_type": "stream",
     "text": [
      "Top 10 movies similar to Interstellar (2014)\n"
     ]
    },
    {
     "data": {
      "text/html": [
       "<div>\n",
       "<style scoped>\n",
       "    .dataframe tbody tr th:only-of-type {\n",
       "        vertical-align: middle;\n",
       "    }\n",
       "\n",
       "    .dataframe tbody tr th {\n",
       "        vertical-align: top;\n",
       "    }\n",
       "\n",
       "    .dataframe thead th {\n",
       "        text-align: right;\n",
       "    }\n",
       "</style>\n",
       "<table border=\"1\" class=\"dataframe\">\n",
       "  <thead>\n",
       "    <tr style=\"text-align: right;\">\n",
       "      <th></th>\n",
       "      <th>Title</th>\n",
       "      <th>Similarity</th>\n",
       "    </tr>\n",
       "  </thead>\n",
       "  <tbody>\n",
       "    <tr>\n",
       "      <th>1</th>\n",
       "      <td>Primer (2004)</td>\n",
       "      <td>0.651071</td>\n",
       "    </tr>\n",
       "    <tr>\n",
       "      <th>2</th>\n",
       "      <td>Back to the Future (1985)</td>\n",
       "      <td>0.628502</td>\n",
       "    </tr>\n",
       "    <tr>\n",
       "      <th>3</th>\n",
       "      <td>Back to the Future Part II (1989)</td>\n",
       "      <td>0.628502</td>\n",
       "    </tr>\n",
       "    <tr>\n",
       "      <th>4</th>\n",
       "      <td>Bill &amp; Ted's Excellent Adventure (1989)</td>\n",
       "      <td>0.628502</td>\n",
       "    </tr>\n",
       "    <tr>\n",
       "      <th>5</th>\n",
       "      <td>Stargate (1994)</td>\n",
       "      <td>0.621360</td>\n",
       "    </tr>\n",
       "    <tr>\n",
       "      <th>6</th>\n",
       "      <td>Time Bandits (1981)</td>\n",
       "      <td>0.602974</td>\n",
       "    </tr>\n",
       "    <tr>\n",
       "      <th>7</th>\n",
       "      <td>Bill &amp; Ted's Bogus Journey (1991)</td>\n",
       "      <td>0.602974</td>\n",
       "    </tr>\n",
       "    <tr>\n",
       "      <th>8</th>\n",
       "      <td>Twelve Monkeys (a.k.a. 12 Monkeys) (1995)</td>\n",
       "      <td>0.423800</td>\n",
       "    </tr>\n",
       "    <tr>\n",
       "      <th>9</th>\n",
       "      <td>The Butterfly Effect (2004)</td>\n",
       "      <td>0.408501</td>\n",
       "    </tr>\n",
       "    <tr>\n",
       "      <th>10</th>\n",
       "      <td>Doctor Strange (2016)</td>\n",
       "      <td>0.376537</td>\n",
       "    </tr>\n",
       "  </tbody>\n",
       "</table>\n",
       "</div>"
      ],
      "text/plain": [
       "                                        Title  Similarity\n",
       "1                               Primer (2004)    0.651071\n",
       "2                   Back to the Future (1985)    0.628502\n",
       "3           Back to the Future Part II (1989)    0.628502\n",
       "4     Bill & Ted's Excellent Adventure (1989)    0.628502\n",
       "5                             Stargate (1994)    0.621360\n",
       "6                         Time Bandits (1981)    0.602974\n",
       "7           Bill & Ted's Bogus Journey (1991)    0.602974\n",
       "8   Twelve Monkeys (a.k.a. 12 Monkeys) (1995)    0.423800\n",
       "9                 The Butterfly Effect (2004)    0.408501\n",
       "10                      Doctor Strange (2016)    0.376537"
      ]
     },
     "execution_count": 12,
     "metadata": {},
     "output_type": "execute_result"
    }
   ],
   "source": [
    "print(\"Top 10 movies similar to\", get_title(get_idx(movie)))\n",
    "keyword_recommend(movie)"
   ]
  },
  {
   "cell_type": "markdown",
   "id": "f005c30b",
   "metadata": {},
   "source": [
    "---\n",
    "#### Users who liked this movie also liked (popularity based)"
   ]
  },
  {
   "cell_type": "code",
   "execution_count": 13,
   "id": "0f63f01b",
   "metadata": {},
   "outputs": [
    {
     "data": {
      "text/html": [
       "<div>\n",
       "<style scoped>\n",
       "    .dataframe tbody tr th:only-of-type {\n",
       "        vertical-align: middle;\n",
       "    }\n",
       "\n",
       "    .dataframe tbody tr th {\n",
       "        vertical-align: top;\n",
       "    }\n",
       "\n",
       "    .dataframe thead th {\n",
       "        text-align: right;\n",
       "    }\n",
       "</style>\n",
       "<table border=\"1\" class=\"dataframe\">\n",
       "  <thead>\n",
       "    <tr style=\"text-align: right;\">\n",
       "      <th>userId</th>\n",
       "      <th>1</th>\n",
       "      <th>2</th>\n",
       "      <th>3</th>\n",
       "      <th>4</th>\n",
       "      <th>5</th>\n",
       "      <th>6</th>\n",
       "      <th>7</th>\n",
       "      <th>8</th>\n",
       "      <th>9</th>\n",
       "      <th>10</th>\n",
       "      <th>...</th>\n",
       "      <th>601</th>\n",
       "      <th>602</th>\n",
       "      <th>603</th>\n",
       "      <th>604</th>\n",
       "      <th>605</th>\n",
       "      <th>606</th>\n",
       "      <th>607</th>\n",
       "      <th>608</th>\n",
       "      <th>609</th>\n",
       "      <th>610</th>\n",
       "    </tr>\n",
       "    <tr>\n",
       "      <th>movieId</th>\n",
       "      <th></th>\n",
       "      <th></th>\n",
       "      <th></th>\n",
       "      <th></th>\n",
       "      <th></th>\n",
       "      <th></th>\n",
       "      <th></th>\n",
       "      <th></th>\n",
       "      <th></th>\n",
       "      <th></th>\n",
       "      <th></th>\n",
       "      <th></th>\n",
       "      <th></th>\n",
       "      <th></th>\n",
       "      <th></th>\n",
       "      <th></th>\n",
       "      <th></th>\n",
       "      <th></th>\n",
       "      <th></th>\n",
       "      <th></th>\n",
       "      <th></th>\n",
       "    </tr>\n",
       "  </thead>\n",
       "  <tbody>\n",
       "    <tr>\n",
       "      <th>1</th>\n",
       "      <td>4.0</td>\n",
       "      <td>0.0</td>\n",
       "      <td>0.0</td>\n",
       "      <td>0.0</td>\n",
       "      <td>4.0</td>\n",
       "      <td>0.0</td>\n",
       "      <td>4.5</td>\n",
       "      <td>0.0</td>\n",
       "      <td>0.0</td>\n",
       "      <td>0.0</td>\n",
       "      <td>...</td>\n",
       "      <td>4.0</td>\n",
       "      <td>0.0</td>\n",
       "      <td>4.0</td>\n",
       "      <td>3.0</td>\n",
       "      <td>4.0</td>\n",
       "      <td>2.5</td>\n",
       "      <td>4.0</td>\n",
       "      <td>2.5</td>\n",
       "      <td>3.0</td>\n",
       "      <td>5.0</td>\n",
       "    </tr>\n",
       "    <tr>\n",
       "      <th>2</th>\n",
       "      <td>0.0</td>\n",
       "      <td>0.0</td>\n",
       "      <td>0.0</td>\n",
       "      <td>0.0</td>\n",
       "      <td>0.0</td>\n",
       "      <td>4.0</td>\n",
       "      <td>0.0</td>\n",
       "      <td>4.0</td>\n",
       "      <td>0.0</td>\n",
       "      <td>0.0</td>\n",
       "      <td>...</td>\n",
       "      <td>0.0</td>\n",
       "      <td>4.0</td>\n",
       "      <td>0.0</td>\n",
       "      <td>5.0</td>\n",
       "      <td>3.5</td>\n",
       "      <td>0.0</td>\n",
       "      <td>0.0</td>\n",
       "      <td>2.0</td>\n",
       "      <td>0.0</td>\n",
       "      <td>0.0</td>\n",
       "    </tr>\n",
       "    <tr>\n",
       "      <th>3</th>\n",
       "      <td>4.0</td>\n",
       "      <td>0.0</td>\n",
       "      <td>0.0</td>\n",
       "      <td>0.0</td>\n",
       "      <td>0.0</td>\n",
       "      <td>5.0</td>\n",
       "      <td>0.0</td>\n",
       "      <td>0.0</td>\n",
       "      <td>0.0</td>\n",
       "      <td>0.0</td>\n",
       "      <td>...</td>\n",
       "      <td>0.0</td>\n",
       "      <td>0.0</td>\n",
       "      <td>0.0</td>\n",
       "      <td>0.0</td>\n",
       "      <td>0.0</td>\n",
       "      <td>0.0</td>\n",
       "      <td>0.0</td>\n",
       "      <td>2.0</td>\n",
       "      <td>0.0</td>\n",
       "      <td>0.0</td>\n",
       "    </tr>\n",
       "    <tr>\n",
       "      <th>4</th>\n",
       "      <td>0.0</td>\n",
       "      <td>0.0</td>\n",
       "      <td>0.0</td>\n",
       "      <td>0.0</td>\n",
       "      <td>0.0</td>\n",
       "      <td>3.0</td>\n",
       "      <td>0.0</td>\n",
       "      <td>0.0</td>\n",
       "      <td>0.0</td>\n",
       "      <td>0.0</td>\n",
       "      <td>...</td>\n",
       "      <td>0.0</td>\n",
       "      <td>0.0</td>\n",
       "      <td>0.0</td>\n",
       "      <td>0.0</td>\n",
       "      <td>0.0</td>\n",
       "      <td>0.0</td>\n",
       "      <td>0.0</td>\n",
       "      <td>0.0</td>\n",
       "      <td>0.0</td>\n",
       "      <td>0.0</td>\n",
       "    </tr>\n",
       "    <tr>\n",
       "      <th>5</th>\n",
       "      <td>0.0</td>\n",
       "      <td>0.0</td>\n",
       "      <td>0.0</td>\n",
       "      <td>0.0</td>\n",
       "      <td>0.0</td>\n",
       "      <td>5.0</td>\n",
       "      <td>0.0</td>\n",
       "      <td>0.0</td>\n",
       "      <td>0.0</td>\n",
       "      <td>0.0</td>\n",
       "      <td>...</td>\n",
       "      <td>0.0</td>\n",
       "      <td>0.0</td>\n",
       "      <td>0.0</td>\n",
       "      <td>3.0</td>\n",
       "      <td>0.0</td>\n",
       "      <td>0.0</td>\n",
       "      <td>0.0</td>\n",
       "      <td>0.0</td>\n",
       "      <td>0.0</td>\n",
       "      <td>0.0</td>\n",
       "    </tr>\n",
       "  </tbody>\n",
       "</table>\n",
       "<p>5 rows × 610 columns</p>\n",
       "</div>"
      ],
      "text/plain": [
       "userId   1    2    3    4    5    6    7    8    9    10   ...  601  602  603  \\\n",
       "movieId                                                    ...                  \n",
       "1        4.0  0.0  0.0  0.0  4.0  0.0  4.5  0.0  0.0  0.0  ...  4.0  0.0  4.0   \n",
       "2        0.0  0.0  0.0  0.0  0.0  4.0  0.0  4.0  0.0  0.0  ...  0.0  4.0  0.0   \n",
       "3        4.0  0.0  0.0  0.0  0.0  5.0  0.0  0.0  0.0  0.0  ...  0.0  0.0  0.0   \n",
       "4        0.0  0.0  0.0  0.0  0.0  3.0  0.0  0.0  0.0  0.0  ...  0.0  0.0  0.0   \n",
       "5        0.0  0.0  0.0  0.0  0.0  5.0  0.0  0.0  0.0  0.0  ...  0.0  0.0  0.0   \n",
       "\n",
       "userId   604  605  606  607  608  609  610  \n",
       "movieId                                     \n",
       "1        3.0  4.0  2.5  4.0  2.5  3.0  5.0  \n",
       "2        5.0  3.5  0.0  0.0  2.0  0.0  0.0  \n",
       "3        0.0  0.0  0.0  0.0  2.0  0.0  0.0  \n",
       "4        0.0  0.0  0.0  0.0  0.0  0.0  0.0  \n",
       "5        3.0  0.0  0.0  0.0  0.0  0.0  0.0  \n",
       "\n",
       "[5 rows x 610 columns]"
      ]
     },
     "execution_count": 13,
     "metadata": {},
     "output_type": "execute_result"
    }
   ],
   "source": [
    "# creating a sparse matrix of ratings\n",
    "ratings_pivot = ratings.pivot(index='movieId',columns='userId',values='rating')\n",
    "ratings_pivot.fillna(0, inplace=True)\n",
    "ratings_pivot.head()"
   ]
  },
  {
   "cell_type": "code",
   "execution_count": 14,
   "id": "441010c8",
   "metadata": {},
   "outputs": [],
   "source": [
    "# counting rated movies and users who have rated movies\n",
    "users_rated = ratings.groupby('movieId')['rating'].agg('count')\n",
    "movies_rated = ratings.groupby('userId')['rating'].agg('count')"
   ]
  },
  {
   "cell_type": "code",
   "execution_count": 15,
   "id": "f2189d36",
   "metadata": {},
   "outputs": [],
   "source": [
    "# only considering users who have rated more than 50 movies\n",
    "ratings_pivot = ratings_pivot.loc[:, movies_rated[movies_rated > 50].index]"
   ]
  },
  {
   "cell_type": "code",
   "execution_count": 16,
   "id": "d111e508",
   "metadata": {},
   "outputs": [],
   "source": [
    "# Compressed Sparse Row matrix\n",
    "csr_data = csr_matrix(ratings_pivot.values)\n",
    "ratings_pivot.reset_index(inplace=True)"
   ]
  },
  {
   "cell_type": "code",
   "execution_count": 17,
   "id": "5ef25158",
   "metadata": {},
   "outputs": [
    {
     "data": {
      "text/plain": [
       "NearestNeighbors(metric='cosine', n_jobs=-1, n_neighbors=10)"
      ]
     },
     "execution_count": 17,
     "metadata": {},
     "output_type": "execute_result"
    }
   ],
   "source": [
    "# k-nearest neighbors model based on cosine distance\n",
    "knn = NearestNeighbors(metric='cosine', algorithm='auto', n_neighbors=10, n_jobs=-1)\n",
    "knn.fit(csr_data)"
   ]
  },
  {
   "cell_type": "code",
   "execution_count": 18,
   "id": "0242c5b6",
   "metadata": {},
   "outputs": [],
   "source": [
    "# function to recommend top 10 nearest neighbour movies based on similar ratings\n",
    "def rating_recommend(title):\n",
    "    n = 10\n",
    "    movie_list = movies[movies['title'].str.contains(title, case=False)]  \n",
    "    if len(movie_list):        \n",
    "        movie_idx = movie_list.iloc[0]['movieId']\n",
    "        movie_idx = ratings_pivot[ratings_pivot['movieId'] == movie_idx].index[0]\n",
    "        distances, indices = knn.kneighbors(csr_data[movie_idx], n_neighbors=n+1)    \n",
    "        rec_movies = sorted(list(zip(indices.squeeze().tolist(), distances.squeeze().tolist())), key=lambda x: x[1])[:0:-1]\n",
    "        recommend_frame = []\n",
    "        for val in rec_movies:\n",
    "            movie_idx = ratings_pivot.iloc[val[0]]['movieId']\n",
    "            idx = movies[movies['movieId'] == movie_idx].index\n",
    "            recommend_frame.append({'Title':movies.iloc[idx]['title'].values[0],'Distance':val[1]})\n",
    "        df = pd.DataFrame(recommend_frame, index=range(1, n+1))\n",
    "        df.sort_values(by=['Distance'], inplace=True)\n",
    "        return df.reset_index(drop=True)\n",
    "    else:\n",
    "        return \"No movies found.\""
   ]
  },
  {
   "cell_type": "code",
   "execution_count": 19,
   "id": "40be465b",
   "metadata": {},
   "outputs": [
    {
     "name": "stdout",
     "output_type": "stream",
     "text": [
      "Enter a movie you liked: interstellar\n"
     ]
    }
   ],
   "source": [
    "movie = input(\"Enter a movie you liked: \")"
   ]
  },
  {
   "cell_type": "code",
   "execution_count": 20,
   "id": "3cb74d32",
   "metadata": {},
   "outputs": [
    {
     "name": "stdout",
     "output_type": "stream",
     "text": [
      "Top 10 movies liked by users who liked Interstellar (2014)\n"
     ]
    },
    {
     "data": {
      "text/html": [
       "<div>\n",
       "<style scoped>\n",
       "    .dataframe tbody tr th:only-of-type {\n",
       "        vertical-align: middle;\n",
       "    }\n",
       "\n",
       "    .dataframe tbody tr th {\n",
       "        vertical-align: top;\n",
       "    }\n",
       "\n",
       "    .dataframe thead th {\n",
       "        text-align: right;\n",
       "    }\n",
       "</style>\n",
       "<table border=\"1\" class=\"dataframe\">\n",
       "  <thead>\n",
       "    <tr style=\"text-align: right;\">\n",
       "      <th></th>\n",
       "      <th>Title</th>\n",
       "      <th>Distance</th>\n",
       "    </tr>\n",
       "  </thead>\n",
       "  <tbody>\n",
       "    <tr>\n",
       "      <th>0</th>\n",
       "      <td>Everything or Nothing: The Untold Story of 007...</td>\n",
       "      <td>0.326071</td>\n",
       "    </tr>\n",
       "    <tr>\n",
       "      <th>1</th>\n",
       "      <td>Joyful Noise (2012)</td>\n",
       "      <td>0.338903</td>\n",
       "    </tr>\n",
       "    <tr>\n",
       "      <th>2</th>\n",
       "      <td>Bad Words (2013)</td>\n",
       "      <td>0.356780</td>\n",
       "    </tr>\n",
       "    <tr>\n",
       "      <th>3</th>\n",
       "      <td>Ramona and Beezus (2010)</td>\n",
       "      <td>0.376187</td>\n",
       "    </tr>\n",
       "    <tr>\n",
       "      <th>4</th>\n",
       "      <td>Footloose (2011)</td>\n",
       "      <td>0.386820</td>\n",
       "    </tr>\n",
       "    <tr>\n",
       "      <th>5</th>\n",
       "      <td>Nick Fury: Agent of S.H.I.E.L.D. (1998)</td>\n",
       "      <td>0.390902</td>\n",
       "    </tr>\n",
       "    <tr>\n",
       "      <th>6</th>\n",
       "      <td>Song of the Sea (2014)</td>\n",
       "      <td>0.391242</td>\n",
       "    </tr>\n",
       "    <tr>\n",
       "      <th>7</th>\n",
       "      <td>No Way Jose (2015)</td>\n",
       "      <td>0.398055</td>\n",
       "    </tr>\n",
       "    <tr>\n",
       "      <th>8</th>\n",
       "      <td>Untitled Spider-Man Reboot (2017)</td>\n",
       "      <td>0.409325</td>\n",
       "    </tr>\n",
       "    <tr>\n",
       "      <th>9</th>\n",
       "      <td>Delirium (2014)</td>\n",
       "      <td>0.416786</td>\n",
       "    </tr>\n",
       "  </tbody>\n",
       "</table>\n",
       "</div>"
      ],
      "text/plain": [
       "                                               Title  Distance\n",
       "0  Everything or Nothing: The Untold Story of 007...  0.326071\n",
       "1                                Joyful Noise (2012)  0.338903\n",
       "2                                   Bad Words (2013)  0.356780\n",
       "3                           Ramona and Beezus (2010)  0.376187\n",
       "4                                   Footloose (2011)  0.386820\n",
       "5            Nick Fury: Agent of S.H.I.E.L.D. (1998)  0.390902\n",
       "6                             Song of the Sea (2014)  0.391242\n",
       "7                                 No Way Jose (2015)  0.398055\n",
       "8                  Untitled Spider-Man Reboot (2017)  0.409325\n",
       "9                                    Delirium (2014)  0.416786"
      ]
     },
     "execution_count": 20,
     "metadata": {},
     "output_type": "execute_result"
    }
   ],
   "source": [
    "print(\"Top 10 movies liked by users who liked\", get_title(get_idx(movie)))\n",
    "rating_recommend(movie)"
   ]
  },
  {
   "cell_type": "markdown",
   "id": "c21446f9",
   "metadata": {},
   "source": [
    "---\n",
    "### Returning Users\n",
    "\n",
    "\n",
    "#### User and Item Based"
   ]
  },
  {
   "cell_type": "code",
   "execution_count": 21,
   "id": "4d263560",
   "metadata": {},
   "outputs": [
    {
     "name": "stdout",
     "output_type": "stream",
     "text": [
      "Computing the cosine similarity matrix...\n",
      "Done computing similarity matrix.\n"
     ]
    },
    {
     "data": {
      "text/plain": [
       "<surprise.prediction_algorithms.knns.KNNWithMeans at 0x7f9cae92dd30>"
      ]
     },
     "execution_count": 21,
     "metadata": {},
     "output_type": "execute_result"
    }
   ],
   "source": [
    "# KNN based collaborative filtering algorithm\n",
    "reader = Reader()\n",
    "data = Dataset.load_from_df(ratings[['userId', 'movieId', 'rating']], reader)\n",
    "\n",
    "# cross-validation split\n",
    "kf = KFold(n_splits=5, random_state=42)\n",
    "kf.split(data)\n",
    "\n",
    "# train-test-split (70/30)\n",
    "trainset, testset = train_test_split(data, test_size=0.3, random_state=42)\n",
    "\n",
    "# building the model with training data\n",
    "algo = KNNWithMeans(k=10, sim_options={'name':'cosine', 'user_based':True})\n",
    "algo.fit(trainset)"
   ]
  },
  {
   "cell_type": "code",
   "execution_count": 22,
   "id": "2fad069f",
   "metadata": {},
   "outputs": [
    {
     "name": "stdout",
     "output_type": "stream",
     "text": [
      "RMSE: 0.9192\n"
     ]
    },
    {
     "data": {
      "text/plain": [
       "0.9191793752525242"
      ]
     },
     "execution_count": 22,
     "metadata": {},
     "output_type": "execute_result"
    }
   ],
   "source": [
    "# checking the RMSE of the predicted test values\n",
    "preds = algo.test(testset)\n",
    "accuracy.rmse(preds, verbose=True)"
   ]
  },
  {
   "cell_type": "code",
   "execution_count": 23,
   "id": "75c1595d",
   "metadata": {},
   "outputs": [],
   "source": [
    "# function for hybrid recommendation for returning users (taking rating history and tag similarity into account)\n",
    "def hybrid(userId, title):\n",
    "    \n",
    "    idx = get_idx(title)\n",
    "    movieId = final.loc[final['title'].str.contains(title, case=False), 'movieId'].iloc[0]\n",
    "    \n",
    "    sim_scores = list(enumerate(cosine_sim[idx]))\n",
    "    sim_scores = sorted(sim_scores, key=lambda x: x[1], reverse=True)\n",
    "    sim_scores = sim_scores[1:31]\n",
    "    movie_indices = [i[0] for i in sim_scores]\n",
    "    \n",
    "    rec = final.iloc[movie_indices][['title', 'movieId']]\n",
    "    rec['est'] = rec['movieId'].apply(lambda x: algo.predict(userId, final.loc[final['movieId'] == x, 'movieId'].iloc[0]).est)\n",
    "    rec = rec.sort_values('est', ascending=False)\n",
    "    rec.columns = ['Title', 'Movie Id', 'Estimated Rating']\n",
    "    rec.drop('Movie Id', axis=1, inplace=True)\n",
    "    return rec.reset_index(drop=True).head(10)"
   ]
  },
  {
   "cell_type": "code",
   "execution_count": 24,
   "id": "6d0b237f",
   "metadata": {},
   "outputs": [
    {
     "name": "stdout",
     "output_type": "stream",
     "text": [
      "Enter your user ID: 25\n"
     ]
    }
   ],
   "source": [
    "user = input(\"Enter your user ID: \")"
   ]
  },
  {
   "cell_type": "code",
   "execution_count": 25,
   "id": "01d36c7e",
   "metadata": {},
   "outputs": [
    {
     "name": "stdout",
     "output_type": "stream",
     "text": [
      "Enter a movie you liked: interstellar\n"
     ]
    }
   ],
   "source": [
    "movie = input(\"Enter a movie you liked: \")"
   ]
  },
  {
   "cell_type": "code",
   "execution_count": 26,
   "id": "f327be4c",
   "metadata": {},
   "outputs": [
    {
     "name": "stdout",
     "output_type": "stream",
     "text": [
      "Top 10 personalised recommendations for User 25\n"
     ]
    },
    {
     "data": {
      "text/html": [
       "<div>\n",
       "<style scoped>\n",
       "    .dataframe tbody tr th:only-of-type {\n",
       "        vertical-align: middle;\n",
       "    }\n",
       "\n",
       "    .dataframe tbody tr th {\n",
       "        vertical-align: top;\n",
       "    }\n",
       "\n",
       "    .dataframe thead th {\n",
       "        text-align: right;\n",
       "    }\n",
       "</style>\n",
       "<table border=\"1\" class=\"dataframe\">\n",
       "  <thead>\n",
       "    <tr style=\"text-align: right;\">\n",
       "      <th></th>\n",
       "      <th>Title</th>\n",
       "      <th>Estimated Rating</th>\n",
       "    </tr>\n",
       "  </thead>\n",
       "  <tbody>\n",
       "    <tr>\n",
       "      <th>0</th>\n",
       "      <td>Doctor Strange (2016)</td>\n",
       "      <td>5.000000</td>\n",
       "    </tr>\n",
       "    <tr>\n",
       "      <th>1</th>\n",
       "      <td>Boy and His Dog, A (1975)</td>\n",
       "      <td>5.000000</td>\n",
       "    </tr>\n",
       "    <tr>\n",
       "      <th>2</th>\n",
       "      <td>Bill &amp; Ted's Excellent Adventure (1989)</td>\n",
       "      <td>5.000000</td>\n",
       "    </tr>\n",
       "    <tr>\n",
       "      <th>3</th>\n",
       "      <td>Stargate (1994)</td>\n",
       "      <td>5.000000</td>\n",
       "    </tr>\n",
       "    <tr>\n",
       "      <th>4</th>\n",
       "      <td>Time Bandits (1981)</td>\n",
       "      <td>5.000000</td>\n",
       "    </tr>\n",
       "    <tr>\n",
       "      <th>5</th>\n",
       "      <td>Back to the Future (1985)</td>\n",
       "      <td>5.000000</td>\n",
       "    </tr>\n",
       "    <tr>\n",
       "      <th>6</th>\n",
       "      <td>Twelve Monkeys (a.k.a. 12 Monkeys) (1995)</td>\n",
       "      <td>5.000000</td>\n",
       "    </tr>\n",
       "    <tr>\n",
       "      <th>7</th>\n",
       "      <td>Battle Beyond the Stars (1980)</td>\n",
       "      <td>4.983151</td>\n",
       "    </tr>\n",
       "    <tr>\n",
       "      <th>8</th>\n",
       "      <td>20 Million Miles to Earth (1957)</td>\n",
       "      <td>4.843750</td>\n",
       "    </tr>\n",
       "    <tr>\n",
       "      <th>9</th>\n",
       "      <td>Android (1982)</td>\n",
       "      <td>4.843750</td>\n",
       "    </tr>\n",
       "  </tbody>\n",
       "</table>\n",
       "</div>"
      ],
      "text/plain": [
       "                                       Title  Estimated Rating\n",
       "0                      Doctor Strange (2016)          5.000000\n",
       "1                  Boy and His Dog, A (1975)          5.000000\n",
       "2    Bill & Ted's Excellent Adventure (1989)          5.000000\n",
       "3                            Stargate (1994)          5.000000\n",
       "4                        Time Bandits (1981)          5.000000\n",
       "5                  Back to the Future (1985)          5.000000\n",
       "6  Twelve Monkeys (a.k.a. 12 Monkeys) (1995)          5.000000\n",
       "7             Battle Beyond the Stars (1980)          4.983151\n",
       "8           20 Million Miles to Earth (1957)          4.843750\n",
       "9                             Android (1982)          4.843750"
      ]
     },
     "execution_count": 26,
     "metadata": {},
     "output_type": "execute_result"
    }
   ],
   "source": [
    "print(\"Top 10 personalised recommendations for User\", user)\n",
    "hybrid(int(user), movie)"
   ]
  },
  {
   "cell_type": "markdown",
   "id": "1b3b970a",
   "metadata": {},
   "source": [
    "---\n",
    "## Inference\n",
    "<br>\n",
    "The overall accuracy of the predictions cannot be tested until the users themselves give feedback about them. <br>\n",
    "Personally experimenting with different movies, the hybrid model performs most satisfactorily. The solely content-based recommendations are also quite accurate, while the recommendations based on only popularity seem the least accurate."
   ]
  }
 ],
 "metadata": {
  "kernelspec": {
   "display_name": "Python 3",
   "language": "python",
   "name": "python3"
  },
  "language_info": {
   "codemirror_mode": {
    "name": "ipython",
    "version": 3
   },
   "file_extension": ".py",
   "mimetype": "text/x-python",
   "name": "python",
   "nbconvert_exporter": "python",
   "pygments_lexer": "ipython3",
   "version": "3.8.8"
  }
 },
 "nbformat": 4,
 "nbformat_minor": 5
}
